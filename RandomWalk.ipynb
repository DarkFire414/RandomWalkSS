{
  "nbformat": 4,
  "nbformat_minor": 0,
  "metadata": {
    "colab": {
      "name": "RandomWalk.ipynb",
      "provenance": [],
      "collapsed_sections": [],
      "authorship_tag": "ABX9TyOdRa8VM9ws+SfIzGZYUaDj",
      "include_colab_link": true
    },
    "kernelspec": {
      "name": "python3",
      "display_name": "Python 3"
    },
    "language_info": {
      "name": "python"
    }
  },
  "cells": [
    {
      "cell_type": "markdown",
      "metadata": {
        "id": "view-in-github",
        "colab_type": "text"
      },
      "source": [
        "<a href=\"https://colab.research.google.com/github/DarkFire414/RandomWalkSS/blob/main/RandomWalk.ipynb\" target=\"_parent\"><img src=\"https://colab.research.google.com/assets/colab-badge.svg\" alt=\"Open In Colab\"/></a>"
      ]
    },
    {
      "cell_type": "code",
      "source": [
        "import random\n",
        "import numpy as np\n",
        "import matplotlib.pyplot as plt\n",
        "\n",
        "print(\"\\n\\t\\t Random walk, genere un número n de pasos aleatorios\")\n",
        "\n",
        "while True:\n",
        "    try:\n",
        "        # Pasos de la caminata\n",
        "        n = int(input(\"\\tIngrese el número de pasos a generar (número entero positivo) \\n\\n\\t\\t n = \"))\n",
        "        \n",
        "        if n<0:\n",
        "            print(\"\\n\\tDebe ingresarse un número positivo, intente nuevamente\")\n",
        "            continue\n",
        "        \n",
        "        # Longitud del paso\n",
        "        L = float(input(\"\\tIngrese la longitud L del paso (número decimal o entero positivo) \\n\\n\\t\\t L = \"))\n",
        "        \n",
        "        if L<0:\n",
        "            print(\"\\n\\tDebe ingresarse un número positivo, intente nuevamente\")\n",
        "            continue\n",
        "        break\n",
        "   \n",
        "    except:\n",
        "        print(\"\\n\\tOcurrió un error al guardar la información, intente nuevamente\")    \n",
        "\n",
        "# Coordenadas\n",
        "xs = [0]\n",
        "ys = [0]\n",
        "\n",
        "# Theta \n",
        "theta = random.uniform(0, 2*np.pi)\n",
        "\n",
        "tmpx, tmpy = 0, 0\n",
        "\n",
        "for i in range(1, n+1, 1):\n",
        "    xs.append( tmpx + L * np.cos(theta) )\n",
        "    ys.append( tmpy + L * np.sin(theta) )\n",
        "    \n",
        "    tmpx = xs[i]\n",
        "    tmpy = ys[i]\n",
        "    \n",
        "    print(\"\\n\\n\\tPaso \" + str(i) + \" - \\tx = \" + str( round(xs[i], 4) ) + \"\\t\\t y = \" + str( round(ys[i], 4) ) + \"\\t\\t theta = \" + str( round(theta, 4) ) + \" radianes\" )\n",
        "    \n",
        "    #newL = \n",
        "    #print(\"\\n\\tL = \" + )\n",
        "    # Theta \n",
        "    theta = random.uniform(0, 2*np.pi)\n",
        "    \n",
        "d = pow( pow(xs[-1], 2) + pow(ys[-1], 2), 0.5)\n",
        "print(\"\\n\\t Distancia total recorrida, d = \" + str(round(d, 4)))\n",
        "\n",
        "print(\"\\n\\t Se muestra el gráfico de la caminata, los pasos pueden verse distintos tamaños debido a la escala de cada eje...\")\n",
        "\n",
        "plt.plot(xs, ys)\n",
        "plt.plot( [xs[0], xs[-1]] , [ys[0], ys[-1]])\n",
        "plt.scatter( xs[0] , ys[0]  , c = 'r')\n",
        "plt.scatter( xs[-1], ys[-1] , c = 'g' )\n",
        "plt.legend( ['Recorrido', 'Distancia recorrida', 'Inicio', 'final'] )\n",
        "plt.title('Random Walk')\n",
        "plt.xlabel('x')\n",
        "plt.ylabel('y')\n",
        "plt.grid()\n",
        "plt.show()"
      ],
      "metadata": {
        "colab": {
          "base_uri": "https://localhost:8080/",
          "height": 1000
        },
        "id": "UkszpN3tU6pk",
        "outputId": "d0844024-2b39-4dec-aaae-3df2f7f56c53"
      },
      "execution_count": 2,
      "outputs": [
        {
          "output_type": "stream",
          "name": "stdout",
          "text": [
            "\n",
            "\t\t Random walk, genere un número n de pasos aleatorios\n",
            "\tIngrese el número de pasos a generar (número entero positivo) \n",
            "\n",
            "\t\t n = 10\n",
            "\tIngrese la longitud L del paso (número decimal o entero positivo) \n",
            "\n",
            "\t\t L = 1\n",
            "\n",
            "\n",
            "\tPaso 1 - \tx = 0.8505\t\t y = -0.5259\t\t theta = 5.7294 radianes\n",
            "\n",
            "\n",
            "\tPaso 2 - \tx = 0.7051\t\t y = -1.5153\t\t theta = 4.5665 radianes\n",
            "\n",
            "\n",
            "\tPaso 3 - \tx = 0.1174\t\t y = -2.3244\t\t theta = 4.0841 radianes\n",
            "\n",
            "\n",
            "\tPaso 4 - \tx = 0.9284\t\t y = -2.9094\t\t theta = 5.6582 radianes\n",
            "\n",
            "\n",
            "\tPaso 5 - \tx = 0.3654\t\t y = -2.0829\t\t theta = 2.1687 radianes\n",
            "\n",
            "\n",
            "\tPaso 6 - \tx = 1.1891\t\t y = -1.5159\t\t theta = 0.6029 radianes\n",
            "\n",
            "\n",
            "\tPaso 7 - \tx = 2.045\t\t y = -2.0331\t\t theta = 5.7396 radianes\n",
            "\n",
            "\n",
            "\tPaso 8 - \tx = 2.08\t\t y = -3.0324\t\t theta = 4.7474 radianes\n",
            "\n",
            "\n",
            "\tPaso 9 - \tx = 1.6355\t\t y = -2.1367\t\t theta = 2.0314 radianes\n",
            "\n",
            "\n",
            "\tPaso 10 - \tx = 2.1578\t\t y = -1.2839\t\t theta = 1.0212 radianes\n",
            "\n",
            "\t Distancia total recorrida, d = 2.5109\n",
            "\n",
            "\t Se muestra el gráfico de la caminata, los pasos pueden verse distintos tamaños debido a la escala de cada eje...\n"
          ]
        },
        {
          "output_type": "display_data",
          "data": {
            "text/plain": [
              "<Figure size 432x288 with 1 Axes>"
            ],
            "image/png": "[encoded data removed]"
          },
          "metadata": {
            "needs_background": "light"
          }
        }
      ]
    }
  ]
}